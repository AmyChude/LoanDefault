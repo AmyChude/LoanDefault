{
  "nbformat": 4,
  "nbformat_minor": 0,
  "metadata": {
    "colab": {
      "name": "LoanDefaultPredictionModel.ipynb",
      "provenance": [],
      "collapsed_sections": [
        "8C8S4vNqZgO4",
        "BrQZ4OpJVifi",
        "7H3dQR6JVmVe",
        "tLZkC1z1ZbXe",
        "RfxlCb_dZWm9",
        "GLnxdbyjeZAz"
      ]
    },
    "kernelspec": {
      "name": "python3",
      "display_name": "Python 3"
    },
    "accelerator": "GPU"
  },
  "cells": [
    {
      "cell_type": "markdown",
      "metadata": {
        "id": "8C8S4vNqZgO4",
        "colab_type": "text"
      },
      "source": [
        "#Importing Libaries"
      ]
    },
    {
      "cell_type": "code",
      "metadata": {
        "id": "9_kKOEq25wHd",
        "colab_type": "code",
        "colab": {}
      },
      "source": [
        "#importing libaries\n",
        "import pandas as pd\n",
        "import numpy as np\n",
        "import matplotlib.pyplot as plt\n",
        "%matplotlib inline\n",
        "import seaborn as sns"
      ],
      "execution_count": 0,
      "outputs": []
    },
    {
      "cell_type": "markdown",
      "metadata": {
        "id": "BrQZ4OpJVifi",
        "colab_type": "text"
      },
      "source": [
        "#UPLOADING THE CSV FILE"
      ]
    },
    {
      "cell_type": "code",
      "metadata": {
        "id": "QGD9Y7vQ6uFG",
        "colab_type": "code",
        "outputId": "5e5e4149-b8f8-434c-b1a0-08e547c25214",
        "colab": {
          "resources": {
            "http://localhost:8080/nbextensions/google.colab/files.js": {
              "data": "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",
              "ok": true,
              "headers": [
                [
                  "content-type",
                  "application/javascript"
                ]
              ],
              "status": 200,
              "status_text": ""
            }
          },
          "base_uri": "https://localhost:8080/",
          "height": 74
        }
      },
      "source": [
        "from google.colab import files\n",
        "uploaded = files.upload()"
      ],
      "execution_count": 0,
      "outputs": [
        {
          "output_type": "display_data",
          "data": {
            "text/html": [
              "\n",
              "     <input type=\"file\" id=\"files-c7b825bd-92c8-40fc-9e54-03b02d26ebbf\" name=\"files[]\" multiple disabled />\n",
              "     <output id=\"result-c7b825bd-92c8-40fc-9e54-03b02d26ebbf\">\n",
              "      Upload widget is only available when the cell has been executed in the\n",
              "      current browser session. Please rerun this cell to enable.\n",
              "      </output>\n",
              "      <script src=\"/nbextensions/google.colab/files.js\"></script> "
            ],
            "text/plain": [
              "<IPython.core.display.HTML object>"
            ]
          },
          "metadata": {
            "tags": []
          }
        },
        {
          "output_type": "stream",
          "text": [
            "Saving DATA.csv to DATA.csv\n"
          ],
          "name": "stdout"
        }
      ]
    },
    {
      "cell_type": "markdown",
      "metadata": {
        "id": "7H3dQR6JVmVe",
        "colab_type": "text"
      },
      "source": [
        "#Reading the csv file into the notebook"
      ]
    },
    {
      "cell_type": "code",
      "metadata": {
        "id": "9391seHNcYCF",
        "colab_type": "code",
        "colab": {}
      },
      "source": [
        "import io\n",
        "data = pd.read_csv(io.BytesIO(uploaded['DATA.csv']))"
      ],
      "execution_count": 0,
      "outputs": []
    },
    {
      "cell_type": "markdown",
      "metadata": {
        "id": "tLZkC1z1ZbXe",
        "colab_type": "text"
      },
      "source": [
        "#Performing Exploratory Data Analysis"
      ]
    },
    {
      "cell_type": "code",
      "metadata": {
        "id": "k2efeviReREa",
        "colab_type": "code",
        "outputId": "8906e012-ee22-406e-fdf4-67f33eb04297",
        "colab": {
          "base_uri": "https://localhost:8080/",
          "height": 262
        }
      },
      "source": [
        "data.head(2)"
      ],
      "execution_count": 0,
      "outputs": [
        {
          "output_type": "execute_result",
          "data": {
            "text/html": [
              "<div>\n",
              "<style scoped>\n",
              "    .dataframe tbody tr th:only-of-type {\n",
              "        vertical-align: middle;\n",
              "    }\n",
              "\n",
              "    .dataframe tbody tr th {\n",
              "        vertical-align: top;\n",
              "    }\n",
              "\n",
              "    .dataframe thead th {\n",
              "        text-align: right;\n",
              "    }\n",
              "</style>\n",
              "<table border=\"1\" class=\"dataframe\">\n",
              "  <thead>\n",
              "    <tr style=\"text-align: right;\">\n",
              "      <th></th>\n",
              "      <th>clientId</th>\n",
              "      <th>clientIncome</th>\n",
              "      <th>incomeVerified</th>\n",
              "      <th>clientAge</th>\n",
              "      <th>clientGender</th>\n",
              "      <th>clientMaritalStatus</th>\n",
              "      <th>clientLoanPurpose</th>\n",
              "      <th>clientResidentialStauts</th>\n",
              "      <th>clientState</th>\n",
              "      <th>clientTimeAtEmployer</th>\n",
              "      <th>...</th>\n",
              "      <th>dueDate</th>\n",
              "      <th>paidAt</th>\n",
              "      <th>loanAmount</th>\n",
              "      <th>interestRate</th>\n",
              "      <th>loanTerm</th>\n",
              "      <th>max_amount_taken</th>\n",
              "      <th>max_tenor_taken</th>\n",
              "      <th>firstPaymentRatio</th>\n",
              "      <th>firstPaymentDefault</th>\n",
              "      <th>loanDefault</th>\n",
              "    </tr>\n",
              "  </thead>\n",
              "  <tbody>\n",
              "    <tr>\n",
              "      <th>0</th>\n",
              "      <td>93832099</td>\n",
              "      <td>40000.0</td>\n",
              "      <td>false</td>\n",
              "      <td>34</td>\n",
              "      <td>MALE</td>\n",
              "      <td>Married</td>\n",
              "      <td>house</td>\n",
              "      <td>Rented</td>\n",
              "      <td>OGUN</td>\n",
              "      <td>21</td>\n",
              "      <td>...</td>\n",
              "      <td>2018-12-25 11:51:49 UTC</td>\n",
              "      <td>Null</td>\n",
              "      <td>55000</td>\n",
              "      <td>5.0</td>\n",
              "      <td>180</td>\n",
              "      <td>1</td>\n",
              "      <td>1</td>\n",
              "      <td>1.0</td>\n",
              "      <td>1.0</td>\n",
              "      <td>1</td>\n",
              "    </tr>\n",
              "    <tr>\n",
              "      <th>1</th>\n",
              "      <td>236822844</td>\n",
              "      <td>105000.0</td>\n",
              "      <td>false</td>\n",
              "      <td>41</td>\n",
              "      <td>MALE</td>\n",
              "      <td>Single</td>\n",
              "      <td>house</td>\n",
              "      <td>Rented</td>\n",
              "      <td>LAGOS</td>\n",
              "      <td>36+</td>\n",
              "      <td>...</td>\n",
              "      <td>2018-11-03 04:25:47 UTC</td>\n",
              "      <td>Null</td>\n",
              "      <td>70000</td>\n",
              "      <td>7.5</td>\n",
              "      <td>180</td>\n",
              "      <td>0</td>\n",
              "      <td>1</td>\n",
              "      <td>0.0</td>\n",
              "      <td>0.0</td>\n",
              "      <td>1</td>\n",
              "    </tr>\n",
              "  </tbody>\n",
              "</table>\n",
              "<p>2 rows × 30 columns</p>\n",
              "</div>"
            ],
            "text/plain": [
              "    clientId  clientIncome incomeVerified  clientAge clientGender  \\\n",
              "0   93832099       40000.0          false         34         MALE   \n",
              "1  236822844      105000.0          false         41         MALE   \n",
              "\n",
              "  clientMaritalStatus clientLoanPurpose clientResidentialStauts clientState  \\\n",
              "0             Married             house                  Rented        OGUN   \n",
              "1              Single             house                  Rented       LAGOS   \n",
              "\n",
              "  clientTimeAtEmployer     ...                      dueDate paidAt loanAmount  \\\n",
              "0                   21     ...      2018-12-25 11:51:49 UTC   Null      55000   \n",
              "1                  36+     ...      2018-11-03 04:25:47 UTC   Null      70000   \n",
              "\n",
              "  interestRate  loanTerm max_amount_taken max_tenor_taken firstPaymentRatio  \\\n",
              "0          5.0       180                1               1               1.0   \n",
              "1          7.5       180                0               1               0.0   \n",
              "\n",
              "  firstPaymentDefault loanDefault  \n",
              "0                 1.0           1  \n",
              "1                 0.0           1  \n",
              "\n",
              "[2 rows x 30 columns]"
            ]
          },
          "metadata": {
            "tags": []
          },
          "execution_count": 5
        }
      ]
    },
    {
      "cell_type": "code",
      "metadata": {
        "id": "kkxvDzcbeWo6",
        "colab_type": "code",
        "outputId": "c0e9e64d-d8bb-44d9-83c3-884716b41db6",
        "colab": {
          "base_uri": "https://localhost:8080/",
          "height": 612
        }
      },
      "source": [
        "#checking the components of the dataset\n",
        "data.info()"
      ],
      "execution_count": 0,
      "outputs": [
        {
          "output_type": "stream",
          "text": [
            "<class 'pandas.core.frame.DataFrame'>\n",
            "RangeIndex: 159596 entries, 0 to 159595\n",
            "Data columns (total 30 columns):\n",
            "clientId                     159596 non-null int64\n",
            "clientIncome                 159596 non-null float64\n",
            "incomeVerified               159596 non-null object\n",
            "clientAge                    159596 non-null int64\n",
            "clientGender                 159596 non-null object\n",
            "clientMaritalStatus          159596 non-null object\n",
            "clientLoanPurpose            159596 non-null object\n",
            "clientResidentialStauts      159596 non-null object\n",
            "clientState                  159596 non-null object\n",
            "clientTimeAtEmployer         159596 non-null object\n",
            "clientNumberPhoneContacts    159596 non-null object\n",
            "clientAvgCallsPerDay         159596 non-null object\n",
            "loanId                       159596 non-null object\n",
            "loanType                     159596 non-null object\n",
            "loanNumber                   159596 non-null int64\n",
            "applicationDate              159596 non-null object\n",
            "approvalDate                 159596 non-null object\n",
            "declinedDate                 159596 non-null object\n",
            "disbursementDate             159596 non-null object\n",
            "payout_status                159596 non-null object\n",
            "dueDate                      159596 non-null object\n",
            "paidAt                       159596 non-null object\n",
            "loanAmount                   159596 non-null int64\n",
            "interestRate                 159596 non-null float64\n",
            "loanTerm                     159596 non-null int64\n",
            "max_amount_taken             159596 non-null int64\n",
            "max_tenor_taken              159596 non-null int64\n",
            "firstPaymentRatio            159593 non-null float64\n",
            "firstPaymentDefault          159593 non-null float64\n",
            "loanDefault                  159596 non-null int64\n",
            "dtypes: float64(4), int64(8), object(18)\n",
            "memory usage: 36.5+ MB\n"
          ],
          "name": "stdout"
        }
      ]
    },
    {
      "cell_type": "code",
      "metadata": {
        "id": "9CgWsr7MYB7b",
        "colab_type": "code",
        "outputId": "b8de812c-55ba-4a45-f470-f0ae445a7408",
        "colab": {
          "base_uri": "https://localhost:8080/",
          "height": 317
        }
      },
      "source": [
        "#sumarizing the dataset\n",
        "data.describe()"
      ],
      "execution_count": 0,
      "outputs": [
        {
          "output_type": "execute_result",
          "data": {
            "text/html": [
              "<div>\n",
              "<style scoped>\n",
              "    .dataframe tbody tr th:only-of-type {\n",
              "        vertical-align: middle;\n",
              "    }\n",
              "\n",
              "    .dataframe tbody tr th {\n",
              "        vertical-align: top;\n",
              "    }\n",
              "\n",
              "    .dataframe thead th {\n",
              "        text-align: right;\n",
              "    }\n",
              "</style>\n",
              "<table border=\"1\" class=\"dataframe\">\n",
              "  <thead>\n",
              "    <tr style=\"text-align: right;\">\n",
              "      <th></th>\n",
              "      <th>clientId</th>\n",
              "      <th>clientIncome</th>\n",
              "      <th>clientAge</th>\n",
              "      <th>loanNumber</th>\n",
              "      <th>loanAmount</th>\n",
              "      <th>interestRate</th>\n",
              "      <th>loanTerm</th>\n",
              "      <th>max_amount_taken</th>\n",
              "      <th>max_tenor_taken</th>\n",
              "      <th>firstPaymentRatio</th>\n",
              "      <th>firstPaymentDefault</th>\n",
              "      <th>loanDefault</th>\n",
              "    </tr>\n",
              "  </thead>\n",
              "  <tbody>\n",
              "    <tr>\n",
              "      <th>count</th>\n",
              "      <td>1.595960e+05</td>\n",
              "      <td>1.595960e+05</td>\n",
              "      <td>159596.000000</td>\n",
              "      <td>159596.000000</td>\n",
              "      <td>159596.000000</td>\n",
              "      <td>159596.000000</td>\n",
              "      <td>159596.000000</td>\n",
              "      <td>159596.000000</td>\n",
              "      <td>159596.000000</td>\n",
              "      <td>159593.000000</td>\n",
              "      <td>159593.000000</td>\n",
              "      <td>159596.000000</td>\n",
              "    </tr>\n",
              "    <tr>\n",
              "      <th>mean</th>\n",
              "      <td>4.980082e+08</td>\n",
              "      <td>9.083906e+04</td>\n",
              "      <td>33.691847</td>\n",
              "      <td>3.556806</td>\n",
              "      <td>35324.184190</td>\n",
              "      <td>13.331235</td>\n",
              "      <td>85.385599</td>\n",
              "      <td>0.705275</td>\n",
              "      <td>0.915374</td>\n",
              "      <td>0.097993</td>\n",
              "      <td>0.294274</td>\n",
              "      <td>0.279894</td>\n",
              "    </tr>\n",
              "    <tr>\n",
              "      <th>std</th>\n",
              "      <td>2.938655e+08</td>\n",
              "      <td>9.728033e+04</td>\n",
              "      <td>7.180870</td>\n",
              "      <td>2.471578</td>\n",
              "      <td>27840.824297</td>\n",
              "      <td>4.467938</td>\n",
              "      <td>39.323756</td>\n",
              "      <td>0.455921</td>\n",
              "      <td>0.278325</td>\n",
              "      <td>0.278060</td>\n",
              "      <td>0.455717</td>\n",
              "      <td>0.448948</td>\n",
              "    </tr>\n",
              "    <tr>\n",
              "      <th>min</th>\n",
              "      <td>5.060000e+02</td>\n",
              "      <td>3.000000e+01</td>\n",
              "      <td>18.000000</td>\n",
              "      <td>1.000000</td>\n",
              "      <td>11000.000000</td>\n",
              "      <td>4.500000</td>\n",
              "      <td>60.000000</td>\n",
              "      <td>0.000000</td>\n",
              "      <td>0.000000</td>\n",
              "      <td>0.000000</td>\n",
              "      <td>0.000000</td>\n",
              "      <td>0.000000</td>\n",
              "    </tr>\n",
              "    <tr>\n",
              "      <th>25%</th>\n",
              "      <td>2.475166e+08</td>\n",
              "      <td>3.500000e+04</td>\n",
              "      <td>28.000000</td>\n",
              "      <td>2.000000</td>\n",
              "      <td>20000.000000</td>\n",
              "      <td>10.000000</td>\n",
              "      <td>60.000000</td>\n",
              "      <td>0.000000</td>\n",
              "      <td>1.000000</td>\n",
              "      <td>0.000000</td>\n",
              "      <td>0.000000</td>\n",
              "      <td>0.000000</td>\n",
              "    </tr>\n",
              "    <tr>\n",
              "      <th>50%</th>\n",
              "      <td>4.971904e+08</td>\n",
              "      <td>5.511621e+04</td>\n",
              "      <td>33.000000</td>\n",
              "      <td>3.000000</td>\n",
              "      <td>25500.000000</td>\n",
              "      <td>12.500000</td>\n",
              "      <td>60.000000</td>\n",
              "      <td>1.000000</td>\n",
              "      <td>1.000000</td>\n",
              "      <td>0.000000</td>\n",
              "      <td>0.000000</td>\n",
              "      <td>0.000000</td>\n",
              "    </tr>\n",
              "    <tr>\n",
              "      <th>75%</th>\n",
              "      <td>7.463713e+08</td>\n",
              "      <td>1.050000e+05</td>\n",
              "      <td>38.000000</td>\n",
              "      <td>4.000000</td>\n",
              "      <td>37500.000000</td>\n",
              "      <td>15.000000</td>\n",
              "      <td>90.000000</td>\n",
              "      <td>1.000000</td>\n",
              "      <td>1.000000</td>\n",
              "      <td>0.000000</td>\n",
              "      <td>1.000000</td>\n",
              "      <td>1.000000</td>\n",
              "    </tr>\n",
              "    <tr>\n",
              "      <th>max</th>\n",
              "      <td>9.365832e+09</td>\n",
              "      <td>3.925000e+06</td>\n",
              "      <td>138.000000</td>\n",
              "      <td>32.000000</td>\n",
              "      <td>500000.000000</td>\n",
              "      <td>20.000000</td>\n",
              "      <td>180.000000</td>\n",
              "      <td>1.000000</td>\n",
              "      <td>1.000000</td>\n",
              "      <td>1.000000</td>\n",
              "      <td>1.000000</td>\n",
              "      <td>1.000000</td>\n",
              "    </tr>\n",
              "  </tbody>\n",
              "</table>\n",
              "</div>"
            ],
            "text/plain": [
              "           clientId  clientIncome      clientAge     loanNumber  \\\n",
              "count  1.595960e+05  1.595960e+05  159596.000000  159596.000000   \n",
              "mean   4.980082e+08  9.083906e+04      33.691847       3.556806   \n",
              "std    2.938655e+08  9.728033e+04       7.180870       2.471578   \n",
              "min    5.060000e+02  3.000000e+01      18.000000       1.000000   \n",
              "25%    2.475166e+08  3.500000e+04      28.000000       2.000000   \n",
              "50%    4.971904e+08  5.511621e+04      33.000000       3.000000   \n",
              "75%    7.463713e+08  1.050000e+05      38.000000       4.000000   \n",
              "max    9.365832e+09  3.925000e+06     138.000000      32.000000   \n",
              "\n",
              "          loanAmount   interestRate       loanTerm  max_amount_taken  \\\n",
              "count  159596.000000  159596.000000  159596.000000     159596.000000   \n",
              "mean    35324.184190      13.331235      85.385599          0.705275   \n",
              "std     27840.824297       4.467938      39.323756          0.455921   \n",
              "min     11000.000000       4.500000      60.000000          0.000000   \n",
              "25%     20000.000000      10.000000      60.000000          0.000000   \n",
              "50%     25500.000000      12.500000      60.000000          1.000000   \n",
              "75%     37500.000000      15.000000      90.000000          1.000000   \n",
              "max    500000.000000      20.000000     180.000000          1.000000   \n",
              "\n",
              "       max_tenor_taken  firstPaymentRatio  firstPaymentDefault    loanDefault  \n",
              "count    159596.000000      159593.000000        159593.000000  159596.000000  \n",
              "mean          0.915374           0.097993             0.294274       0.279894  \n",
              "std           0.278325           0.278060             0.455717       0.448948  \n",
              "min           0.000000           0.000000             0.000000       0.000000  \n",
              "25%           1.000000           0.000000             0.000000       0.000000  \n",
              "50%           1.000000           0.000000             0.000000       0.000000  \n",
              "75%           1.000000           0.000000             1.000000       1.000000  \n",
              "max           1.000000           1.000000             1.000000       1.000000  "
            ]
          },
          "metadata": {
            "tags": []
          },
          "execution_count": 7
        }
      ]
    },
    {
      "cell_type": "code",
      "metadata": {
        "id": "zq_yz20aYAN1",
        "colab_type": "code",
        "outputId": "81941012-b615-4480-88d8-c1857ba540ff",
        "colab": {
          "base_uri": "https://localhost:8080/",
          "height": 265
        }
      },
      "source": [
        "#visualising the loan default rate\n",
        "sns.set_style('whitegrid')\n",
        "data.loanDefault.value_counts().plot(x=None,y=None, kind='pie',autopct='%1.2f%%')"
      ],
      "execution_count": 0,
      "outputs": [
        {
          "output_type": "execute_result",
          "data": {
            "text/plain": [
              "<matplotlib.axes._subplots.AxesSubplot at 0x7f9e85c9a9b0>"
            ]
          },
          "metadata": {
            "tags": []
          },
          "execution_count": 8
        },
        {
          "output_type": "display_data",
          "data": {
            "image/png": "[encoded data removed]",
            "text/plain": [
              "<Figure size 432x288 with 1 Axes>"
            ]
          },
          "metadata": {
            "tags": []
          }
        }
      ]
    },
    {
      "cell_type": "code",
      "metadata": {
        "id": "vCQX9KJDYY-1",
        "colab_type": "code",
        "outputId": "68f6a496-dbf3-4540-91a6-950a47f32cd7",
        "colab": {
          "base_uri": "https://localhost:8080/",
          "height": 330
        }
      },
      "source": [
        "#visualising the loan default rate by gender\n",
        "sns.set_style('whitegrid')\n",
        "sns.countplot(x='loanDefault',hue='clientGender',data=data,palette='RdBu_r')"
      ],
      "execution_count": 0,
      "outputs": [
        {
          "output_type": "stream",
          "text": [
            "/usr/local/lib/python3.6/dist-packages/seaborn/categorical.py:1468: FutureWarning: remove_na is deprecated and is a private function. Do not use.\n",
            "  stat_data = remove_na(group_data[hue_mask])\n"
          ],
          "name": "stderr"
        },
        {
          "output_type": "execute_result",
          "data": {
            "text/plain": [
              "<matplotlib.axes._subplots.AxesSubplot at 0x7f9e85bfdda0>"
            ]
          },
          "metadata": {
            "tags": []
          },
          "execution_count": 9
        },
        {
          "output_type": "display_data",
          "data": {
            "image/png": "[encoded data removed]",
            "text/plain": [
              "<Figure size 432x288 with 1 Axes>"
            ]
          },
          "metadata": {
            "tags": []
          }
        }
      ]
    },
    {
      "cell_type": "code",
      "metadata": {
        "id": "a1RkTBTFYY4E",
        "colab_type": "code",
        "outputId": "c7df6931-0a92-4a1a-b72a-6e5bffc9c1db",
        "colab": {
          "base_uri": "https://localhost:8080/",
          "height": 674
        }
      },
      "source": [
        "#visualising the distribution of income using the distplot \n",
        "plt.figure(figsize=(20,10))\n",
        "sns.distplot(data['clientIncome'],kde=False,color='darkred', bins=30)"
      ],
      "execution_count": 0,
      "outputs": [
        {
          "output_type": "stream",
          "text": [
            "/usr/local/lib/python3.6/dist-packages/matplotlib/axes/_axes.py:6521: MatplotlibDeprecationWarning: \n",
            "The 'normed' kwarg was deprecated in Matplotlib 2.1 and will be removed in 3.1. Use 'density' instead.\n",
            "  alternative=\"'density'\", removal=\"3.1\")\n"
          ],
          "name": "stderr"
        },
        {
          "output_type": "execute_result",
          "data": {
            "text/plain": [
              "<matplotlib.axes._subplots.AxesSubplot at 0x7f9e83b40160>"
            ]
          },
          "metadata": {
            "tags": []
          },
          "execution_count": 10
        },
        {
          "output_type": "display_data",
          "data": {
            "image/png": "[encoded data removed]",
            "text/plain": [
              "<Figure size 1440x720 with 1 Axes>"
            ]
          },
          "metadata": {
            "tags": []
          }
        }
      ]
    },
    {
      "cell_type": "code",
      "metadata": {
        "id": "7thUELWAYYub",
        "colab_type": "code",
        "outputId": "35e815f9-de98-414b-820b-91634367b688",
        "colab": {
          "base_uri": "https://localhost:8080/",
          "height": 330
        }
      },
      "source": [
        "#visualising the loan default rate by client loan purpose\n",
        "sns.set_style('whitegrid')\n",
        "sns.countplot(x='loanDefault',hue='clientLoanPurpose',data=data,palette='rainbow')"
      ],
      "execution_count": 0,
      "outputs": [
        {
          "output_type": "stream",
          "text": [
            "/usr/local/lib/python3.6/dist-packages/seaborn/categorical.py:1468: FutureWarning: remove_na is deprecated and is a private function. Do not use.\n",
            "  stat_data = remove_na(group_data[hue_mask])\n"
          ],
          "name": "stderr"
        },
        {
          "output_type": "execute_result",
          "data": {
            "text/plain": [
              "<matplotlib.axes._subplots.AxesSubplot at 0x7f9e839b8f60>"
            ]
          },
          "metadata": {
            "tags": []
          },
          "execution_count": 11
        },
        {
          "output_type": "display_data",
          "data": {
            "image/png": "[encoded data removed]",
            "text/plain": [
              "<Figure size 432x288 with 1 Axes>"
            ]
          },
          "metadata": {
            "tags": []
          }
        }
      ]
    },
    {
      "cell_type": "code",
      "metadata": {
        "id": "bB_2IIXYYYnD",
        "colab_type": "code",
        "outputId": "58ce4439-554f-409e-cd9d-b7c7aaa33f15",
        "colab": {
          "base_uri": "https://localhost:8080/",
          "height": 330
        }
      },
      "source": [
        "#visualising the loan default rate by residential status\n",
        "sns.set_style('whitegrid')\n",
        "sns.countplot(x='loanDefault',hue='clientResidentialStauts',data=data,palette='rainbow')"
      ],
      "execution_count": 0,
      "outputs": [
        {
          "output_type": "stream",
          "text": [
            "/usr/local/lib/python3.6/dist-packages/seaborn/categorical.py:1468: FutureWarning: remove_na is deprecated and is a private function. Do not use.\n",
            "  stat_data = remove_na(group_data[hue_mask])\n"
          ],
          "name": "stderr"
        },
        {
          "output_type": "execute_result",
          "data": {
            "text/plain": [
              "<matplotlib.axes._subplots.AxesSubplot at 0x7f9e839279e8>"
            ]
          },
          "metadata": {
            "tags": []
          },
          "execution_count": 12
        },
        {
          "output_type": "display_data",
          "data": {
            "image/png": "[encoded data removed]",
            "text/plain": [
              "<Figure size 432x288 with 1 Axes>"
            ]
          },
          "metadata": {
            "tags": []
          }
        }
      ]
    },
    {
      "cell_type": "code",
      "metadata": {
        "id": "hnohFwt7YYe9",
        "colab_type": "code",
        "outputId": "8fc3dd72-e269-4f87-d121-fd70a8dae759",
        "colab": {
          "base_uri": "https://localhost:8080/",
          "height": 347
        }
      },
      "source": [
        "#visualising the distribution of the age of the clients\n",
        "sns.distplot(data['clientAge'].dropna(),kde=False,color='darkred', bins=15)"
      ],
      "execution_count": 0,
      "outputs": [
        {
          "output_type": "stream",
          "text": [
            "/usr/local/lib/python3.6/dist-packages/matplotlib/axes/_axes.py:6521: MatplotlibDeprecationWarning: \n",
            "The 'normed' kwarg was deprecated in Matplotlib 2.1 and will be removed in 3.1. Use 'density' instead.\n",
            "  alternative=\"'density'\", removal=\"3.1\")\n"
          ],
          "name": "stderr"
        },
        {
          "output_type": "execute_result",
          "data": {
            "text/plain": [
              "<matplotlib.axes._subplots.AxesSubplot at 0x7f9e838ad048>"
            ]
          },
          "metadata": {
            "tags": []
          },
          "execution_count": 13
        },
        {
          "output_type": "display_data",
          "data": {
            "image/png": "[encoded data removed]",
            "text/plain": [
              "<Figure size 432x288 with 1 Axes>"
            ]
          },
          "metadata": {
            "tags": []
          }
        }
      ]
    },
    {
      "cell_type": "code",
      "metadata": {
        "id": "qAQEh33aYYNe",
        "colab_type": "code",
        "outputId": "f63eab0c-b1df-46c7-a49a-2de96d8b8e28",
        "colab": {
          "base_uri": "https://localhost:8080/",
          "height": 330
        }
      },
      "source": [
        "#visualizing the number of loans per purpose of the loan\n",
        "sns.countplot(x='clientLoanPurpose',data=data)"
      ],
      "execution_count": 0,
      "outputs": [
        {
          "output_type": "stream",
          "text": [
            "/usr/local/lib/python3.6/dist-packages/seaborn/categorical.py:1428: FutureWarning: remove_na is deprecated and is a private function. Do not use.\n",
            "  stat_data = remove_na(group_data)\n"
          ],
          "name": "stderr"
        },
        {
          "output_type": "execute_result",
          "data": {
            "text/plain": [
              "<matplotlib.axes._subplots.AxesSubplot at 0x7f9e838d8cf8>"
            ]
          },
          "metadata": {
            "tags": []
          },
          "execution_count": 14
        },
        {
          "output_type": "display_data",
          "data": {
            "image/png": "[encoded data removed]",
            "text/plain": [
              "<Figure size 432x288 with 1 Axes>"
            ]
          },
          "metadata": {
            "tags": []
          }
        }
      ]
    },
    {
      "cell_type": "code",
      "metadata": {
        "id": "Wi-Ga3sKYYGQ",
        "colab_type": "code",
        "outputId": "3ff224d2-fd2d-40b0-b265-1e3b6b060db7",
        "colab": {
          "base_uri": "https://localhost:8080/",
          "height": 509
        }
      },
      "source": [
        "#a joint scatter plot comparing client income and age, identifying outliers\n",
        "sns.jointplot(x='clientAge',y='clientIncome',data=data)"
      ],
      "execution_count": 0,
      "outputs": [
        {
          "output_type": "stream",
          "text": [
            "/usr/local/lib/python3.6/dist-packages/matplotlib/axes/_axes.py:6521: MatplotlibDeprecationWarning: \n",
            "The 'normed' kwarg was deprecated in Matplotlib 2.1 and will be removed in 3.1. Use 'density' instead.\n",
            "  alternative=\"'density'\", removal=\"3.1\")\n"
          ],
          "name": "stderr"
        },
        {
          "output_type": "execute_result",
          "data": {
            "text/plain": [
              "<seaborn.axisgrid.JointGrid at 0x7f9e837f0278>"
            ]
          },
          "metadata": {
            "tags": []
          },
          "execution_count": 15
        },
        {
          "output_type": "display_data",
          "data": {
            "image/png": "[encoded data removed]",
            "text/plain": [
              "<Figure size 432x432 with 3 Axes>"
            ]
          },
          "metadata": {
            "tags": []
          }
        }
      ]
    },
    {
      "cell_type": "markdown",
      "metadata": {
        "id": "RfxlCb_dZWm9",
        "colab_type": "text"
      },
      "source": [
        "# Cleaning the data (Feature Engineering)\n"
      ]
    },
    {
      "cell_type": "code",
      "metadata": {
        "id": "ZiTUmdDrYX_M",
        "colab_type": "code",
        "outputId": "3cce14d5-1b9c-4741-878c-940aba4fabc2",
        "colab": {
          "base_uri": "https://localhost:8080/",
          "height": 68
        }
      },
      "source": [
        "#identifying columns with null values\n",
        "null_columns=data.columns[data.isnull().any()]\n",
        "data[null_columns].isnull().sum()"
      ],
      "execution_count": 0,
      "outputs": [
        {
          "output_type": "execute_result",
          "data": {
            "text/plain": [
              "firstPaymentRatio      3\n",
              "firstPaymentDefault    3\n",
              "dtype: int64"
            ]
          },
          "metadata": {
            "tags": []
          },
          "execution_count": 16
        }
      ]
    },
    {
      "cell_type": "code",
      "metadata": {
        "id": "oDLRA_HfYX4W",
        "colab_type": "code",
        "outputId": "96260ed7-1511-42fb-f3ae-2776cfb57ba0",
        "colab": {
          "base_uri": "https://localhost:8080/",
          "height": 726
        }
      },
      "source": [
        "#visualising using a heat map, columns with high percentage of nul values\n",
        "plt.figure(figsize=(20,10))\n",
        "sns.heatmap(data.isnull(),yticklabels=False,cbar=False,cmap='viridis')"
      ],
      "execution_count": 0,
      "outputs": [
        {
          "output_type": "execute_result",
          "data": {
            "text/plain": [
              "<matplotlib.axes._subplots.AxesSubplot at 0x7f9e837184e0>"
            ]
          },
          "metadata": {
            "tags": []
          },
          "execution_count": 17
        },
        {
          "output_type": "display_data",
          "data": {
            "image/png": "[encoded data removed]",
            "text/plain": [
              "<Figure size 1440x720 with 1 Axes>"
            ]
          },
          "metadata": {
            "tags": []
          }
        }
      ]
    },
    {
      "cell_type": "code",
      "metadata": {
        "id": "OTUc4rT1YXxH",
        "colab_type": "code",
        "colab": {}
      },
      "source": [
        "#replacing the string value \"null\" with nan, this is to enable the system pick them as actual null values\n",
        "data.replace('Null', np.nan, inplace=True)"
      ],
      "execution_count": 0,
      "outputs": []
    },
    {
      "cell_type": "code",
      "metadata": {
        "id": "YA3WBt3HYXpb",
        "colab_type": "code",
        "outputId": "f526ddac-e5c1-4c37-bd6d-29c35e9cbaf2",
        "colab": {
          "base_uri": "https://localhost:8080/",
          "height": 221
        }
      },
      "source": [
        "#reprinting columns with null values (here null values are now dectected properly)\n",
        "null_columns=data.columns[data.isnull().any()]\n",
        "data[null_columns].isnull().sum()"
      ],
      "execution_count": 0,
      "outputs": [
        {
          "output_type": "execute_result",
          "data": {
            "text/plain": [
              "incomeVerified                  103\n",
              "clientMaritalStatus               6\n",
              "clientResidentialStauts        1136\n",
              "clientState                       1\n",
              "clientTimeAtEmployer           4194\n",
              "clientNumberPhoneContacts      2708\n",
              "clientAvgCallsPerDay           2687\n",
              "declinedDate                 159589\n",
              "paidAt                        29800\n",
              "firstPaymentRatio                 3\n",
              "firstPaymentDefault               3\n",
              "dtype: int64"
            ]
          },
          "metadata": {
            "tags": []
          },
          "execution_count": 19
        }
      ]
    },
    {
      "cell_type": "code",
      "metadata": {
        "id": "S2w42-C0YXgz",
        "colab_type": "code",
        "outputId": "43c4a715-92b2-429e-c06b-03ffb108b8ee",
        "colab": {
          "base_uri": "https://localhost:8080/",
          "height": 726
        }
      },
      "source": [
        "#visualising using a heat map, columns with yellow dashes are columns with null values, this is according to their amount\n",
        "plt.figure(figsize=(20,10))\n",
        "sns.heatmap(data.isnull(),yticklabels=False,cbar=False,cmap='viridis')"
      ],
      "execution_count": 0,
      "outputs": [
        {
          "output_type": "execute_result",
          "data": {
            "text/plain": [
              "<matplotlib.axes._subplots.AxesSubplot at 0x7f9e822dae80>"
            ]
          },
          "metadata": {
            "tags": []
          },
          "execution_count": 20
        },
        {
          "output_type": "display_data",
          "data": {
            "image/png": "[encoded data removed]",
            "text/plain": [
              "<Figure size 1440x720 with 1 Axes>"
            ]
          },
          "metadata": {
            "tags": []
          }
        }
      ]
    },
    {
      "cell_type": "code",
      "metadata": {
        "id": "6nmnK7MoRE-g",
        "colab_type": "code",
        "colab": {}
      },
      "source": [
        "#converting numeric columns erronously reading as string to numeric\n",
        "data['clientNumberPhoneContacts'] = pd.to_numeric(data['clientNumberPhoneContacts'], errors='coerce')\n",
        "data['clientAvgCallsPerDay'] = pd.to_numeric(data['clientAvgCallsPerDay'], errors='coerce')"
      ],
      "execution_count": 0,
      "outputs": []
    },
    {
      "cell_type": "code",
      "metadata": {
        "id": "2fQOPM3ef3pT",
        "colab_type": "code",
        "colab": {}
      },
      "source": [
        "#train[‘Pclass’] = train[‘Pclass’].apply(str)"
      ],
      "execution_count": 0,
      "outputs": []
    },
    {
      "cell_type": "code",
      "metadata": {
        "id": "uUhqiJxPQu08",
        "colab_type": "code",
        "colab": {}
      },
      "source": [
        "#filling null values with either the mean of the feature or with the word \"other\" where column is a categorical feature\n",
        "data['clientMaritalStatus'].fillna('Other', inplace=True)\n",
        "data['clientResidentialStauts'].fillna('Other', inplace=True)\n",
        "data['incomeVerified'].fillna('false', inplace=True)\n",
        "data['clientNumberPhoneContacts'].fillna(data['clientNumberPhoneContacts'].mean(), inplace=True)\n",
        "data['clientAvgCallsPerDay'].fillna(data['clientAvgCallsPerDay'].mean(), inplace=True)"
      ],
      "execution_count": 0,
      "outputs": []
    },
    {
      "cell_type": "code",
      "metadata": {
        "id": "5yKpc1ykQun2",
        "colab_type": "code",
        "outputId": "8a9c537d-eaee-488b-949e-35b3c03835fb",
        "colab": {
          "base_uri": "https://localhost:8080/",
          "height": 400
        }
      },
      "source": [
        "#heatmap showing the current state of the dataset after the clean up\n",
        "sns.heatmap(data.isnull(),yticklabels=False,cbar=False,cmap='viridis')"
      ],
      "execution_count": 0,
      "outputs": [
        {
          "output_type": "execute_result",
          "data": {
            "text/plain": [
              "<matplotlib.axes._subplots.AxesSubplot at 0x7f9e81408b38>"
            ]
          },
          "metadata": {
            "tags": []
          },
          "execution_count": 24
        },
        {
          "output_type": "display_data",
          "data": {
            "image/png": "[encoded data removed]",
            "text/plain": [
              "<Figure size 432x288 with 1 Axes>"
            ]
          },
          "metadata": {
            "tags": []
          }
        }
      ]
    },
    {
      "cell_type": "code",
      "metadata": {
        "id": "AATwSY-DYXPT",
        "colab_type": "code",
        "colab": {}
      },
      "source": [
        "#converting 'clientTimeAtEmployer' into a categorical variable with only two values above 36 and below 36\n",
        "#this was done because the dataset already had already grouped  clients above 36+ together, thereby making the distributin skewed to the right.\n",
        "def duration(data):\n",
        "\n",
        "    if (data['clientTimeAtEmployer'] == '36+'):\n",
        "        return 'above 36'\n",
        "    elif (data['clientTimeAtEmployer'] != '36+'):\n",
        "        return 'below 36'\n",
        "data['clientTimeAtEmployer'] = data.apply(duration, axis = 1) "
      ],
      "execution_count": 0,
      "outputs": []
    },
    {
      "cell_type": "code",
      "metadata": {
        "id": "RBfP9ajZYXGL",
        "colab_type": "code",
        "colab": {}
      },
      "source": [
        "#creating a column called 'Approval Duration' derived for the application date and the approval date, stating how long it took for the loan to be approved\n",
        "import datetime as dt\n",
        "data[['applicationDate','approvalDate']] = data[['applicationDate','approvalDate']].apply(pd.to_datetime)\n",
        "data['ApprovalDuration'] = (data['approvalDate'] - data['applicationDate']).dt.days"
      ],
      "execution_count": 0,
      "outputs": []
    },
    {
      "cell_type": "code",
      "metadata": {
        "id": "QgSrgU9YrpBs",
        "colab_type": "code",
        "colab": {}
      },
      "source": [
        "#creating a column called 'client region', derived by grouping client state according to their regions in the country (north, south and west)\n",
        "def region(data):\n",
        "\n",
        "    if (data['clientState'] == 'OGUN' or data['clientState'] == 'LAGOS' or data['clientState'] == 'OYO' or data['clientState'] == 'ONDO' or data['clientState'] == 'KWARA' or\n",
        "                         data['clientState'] == 'OSUN' or data['clientState'] == 'EKITI' or data['clientState'] == 'LAGOS ' or data['clientState'] == 'OJO'):\n",
        "        return 'west'\n",
        "    elif (data['clientState'] == 'RIVERS' or data['clientState'] == 'ABIA' or data['clientState'] == 'AKWA IBOM' or data['clientState'] == 'IMO' or data['clientState'] == 'EBONYI' or\n",
        "                         data['clientState'] == 'ENUGU' or data['clientState'] == 'DELTA' or data['clientState'] == 'CROSS RIVER' or data['clientState'] == 'EDO' or data['clientState'] == 'ANAMBRA' or data['clientState'] == 'BAYELSA'):\n",
        "        return 'south'\n",
        "    elif (data['clientState'] == 'ABUJA' or data['clientState'] == 'KOGI' or data['clientState'] == 'KADUNA' or data['clientState'] == 'KANO' or data['clientState'] == 'NIGER' or\n",
        "                         data['clientState'] == 'PLATEAU' or data['clientState'] == 'TARABA' or data['clientState'] == 'NASARAWA' or data['clientState'] == 'BENUE' or data['clientState'] == 'ZAMFARA'\n",
        "         or data['clientState'] == 'GOMBE' or data['clientState'] == 'BAUCHI' or data['clientState'] == 'KEBBI' or data['clientState'] == 'KATSINA' or data['clientState'] == 'SOKOTO' or data['clientState'] == 'BORNO' \n",
        "         or data['clientState'] == 'YOBE' or data['clientState'] == 'ADAMAWA'  or data['clientState'] == 'JIGAWA'):\n",
        "        return 'north'\n",
        "    elif (data['clientState'] == 'Null'):\n",
        "        return 'others'\n",
        "\n",
        "data['clientRegion'] = data.apply(region, axis = 1) "
      ],
      "execution_count": 0,
      "outputs": []
    },
    {
      "cell_type": "code",
      "metadata": {
        "id": "qqRhIxawkJml",
        "colab_type": "code",
        "outputId": "eaae10f0-facb-41d6-aaff-0128885b87d8",
        "colab": {
          "base_uri": "https://localhost:8080/",
          "height": 646
        }
      },
      "source": [
        "#viewing the components of the new dataframe\n",
        "data.info()"
      ],
      "execution_count": 0,
      "outputs": [
        {
          "output_type": "stream",
          "text": [
            "<class 'pandas.core.frame.DataFrame'>\n",
            "RangeIndex: 159596 entries, 0 to 159595\n",
            "Data columns (total 32 columns):\n",
            "clientId                     159596 non-null int64\n",
            "clientIncome                 159596 non-null float64\n",
            "incomeVerified               159596 non-null object\n",
            "clientAge                    159596 non-null int64\n",
            "clientGender                 159596 non-null object\n",
            "clientMaritalStatus          159596 non-null object\n",
            "clientLoanPurpose            159596 non-null object\n",
            "clientResidentialStauts      159596 non-null object\n",
            "clientState                  159595 non-null object\n",
            "clientTimeAtEmployer         159596 non-null object\n",
            "clientNumberPhoneContacts    159596 non-null float64\n",
            "clientAvgCallsPerDay         159596 non-null float64\n",
            "loanId                       159596 non-null object\n",
            "loanType                     159596 non-null object\n",
            "loanNumber                   159596 non-null int64\n",
            "applicationDate              159596 non-null datetime64[ns]\n",
            "approvalDate                 159596 non-null datetime64[ns]\n",
            "declinedDate                 7 non-null object\n",
            "disbursementDate             159596 non-null object\n",
            "payout_status                159596 non-null object\n",
            "dueDate                      159596 non-null object\n",
            "paidAt                       129796 non-null object\n",
            "loanAmount                   159596 non-null int64\n",
            "interestRate                 159596 non-null float64\n",
            "loanTerm                     159596 non-null int64\n",
            "max_amount_taken             159596 non-null int64\n",
            "max_tenor_taken              159596 non-null int64\n",
            "firstPaymentRatio            159593 non-null float64\n",
            "firstPaymentDefault          159593 non-null float64\n",
            "loanDefault                  159596 non-null int64\n",
            "ApprovalDuration             159596 non-null int64\n",
            "clientRegion                 159595 non-null object\n",
            "dtypes: datetime64[ns](2), float64(6), int64(9), object(15)\n",
            "memory usage: 39.0+ MB\n"
          ],
          "name": "stdout"
        }
      ]
    },
    {
      "cell_type": "code",
      "metadata": {
        "id": "PNa72pFfkdGW",
        "colab_type": "code",
        "outputId": "2053f1f1-9059-4454-da0e-68dd81e7b580",
        "colab": {
          "base_uri": "https://localhost:8080/",
          "height": 400
        }
      },
      "source": [
        "#heatmap visualizing columns that still contains null values\n",
        "sns.heatmap(data.isnull(),yticklabels=False,cbar=False,cmap='viridis')"
      ],
      "execution_count": 0,
      "outputs": [
        {
          "output_type": "execute_result",
          "data": {
            "text/plain": [
              "<matplotlib.axes._subplots.AxesSubplot at 0x7f9e8228e518>"
            ]
          },
          "metadata": {
            "tags": []
          },
          "execution_count": 29
        },
        {
          "output_type": "display_data",
          "data": {
            "image/png": "[encoded data removed]",
            "text/plain": [
              "<Figure size 432x288 with 1 Axes>"
            ]
          },
          "metadata": {
            "tags": []
          }
        }
      ]
    },
    {
      "cell_type": "code",
      "metadata": {
        "id": "UEBqbqDSnWUf",
        "colab_type": "code",
        "colab": {}
      },
      "source": [
        "#droping columns that would not be needed for our models\n",
        "drop_cols = ['loanId','loanType','applicationDate','approvalDate','declinedDate','disbursementDate','payout_status','dueDate','paidAt','clientState']\n",
        "data = data.drop(drop_cols,axis=1)"
      ],
      "execution_count": 0,
      "outputs": []
    },
    {
      "cell_type": "code",
      "metadata": {
        "id": "aKXLYCz3ekO0",
        "colab_type": "code",
        "colab": {}
      },
      "source": [
        "#droping records with null values\n",
        "data.dropna(how='any',axis=0,inplace=True)"
      ],
      "execution_count": 0,
      "outputs": []
    },
    {
      "cell_type": "code",
      "metadata": {
        "id": "AkJF5kfhvKjL",
        "colab_type": "code",
        "outputId": "0dd42860-5b16-4104-ec61-415fd4517733",
        "colab": {
          "base_uri": "https://localhost:8080/",
          "height": 400
        }
      },
      "source": [
        "#confirming the dataframe for nulvalues\n",
        "sns.heatmap(data.isnull(),yticklabels=False,cbar=False,cmap='viridis')"
      ],
      "execution_count": 0,
      "outputs": [
        {
          "output_type": "execute_result",
          "data": {
            "text/plain": [
              "<matplotlib.axes._subplots.AxesSubplot at 0x7f9e82294dd8>"
            ]
          },
          "metadata": {
            "tags": []
          },
          "execution_count": 32
        },
        {
          "output_type": "display_data",
          "data": {
            "image/png": "[encoded data removed]",
            "text/plain": [
              "<Figure size 432x288 with 1 Axes>"
            ]
          },
          "metadata": {
            "tags": []
          }
        }
      ]
    },
    {
      "cell_type": "code",
      "metadata": {
        "id": "OJVcJzPj7TUV",
        "colab_type": "code",
        "outputId": "623d95db-072f-4586-c0b6-81447713fb9a",
        "colab": {
          "base_uri": "https://localhost:8080/",
          "height": 884
        }
      },
      "source": [
        "#searching for categorical values with unique values below 6\n",
        "edata = data.loc[:,data.apply(pd.Series.nunique) != 1]\n",
        "for col in edata.columns:\n",
        "    if (len(edata[col].unique()) < 6):\n",
        "        print(edata[col].value_counts())\n",
        "        print()"
      ],
      "execution_count": 0,
      "outputs": [
        {
          "output_type": "stream",
          "text": [
            "false    133389\n",
            "true      26203\n",
            "Name: incomeVerified, dtype: int64\n",
            "\n",
            "MALE      109664\n",
            "FEMALE     49928\n",
            "Name: clientGender, dtype: int64\n",
            "\n",
            "business     78975\n",
            "other        31553\n",
            "house        22240\n",
            "education    15735\n",
            "medical      11089\n",
            "Name: clientLoanPurpose, dtype: int64\n",
            "\n",
            "above 36    87291\n",
            "below 36    72301\n",
            "Name: clientTimeAtEmployer, dtype: int64\n",
            "\n",
            "60     87908\n",
            "90     50567\n",
            "180    21117\n",
            "Name: loanTerm, dtype: int64\n",
            "\n",
            "1    112557\n",
            "0     47035\n",
            "Name: max_amount_taken, dtype: int64\n",
            "\n",
            "1    146086\n",
            "0     13506\n",
            "Name: max_tenor_taken, dtype: int64\n",
            "\n",
            "0.0    112628\n",
            "1.0     46964\n",
            "Name: firstPaymentDefault, dtype: int64\n",
            "\n",
            "0    114922\n",
            "1     44670\n",
            "Name: loanDefault, dtype: int64\n",
            "\n",
            "0    159407\n",
            "1       152\n",
            "2        31\n",
            "3         2\n",
            "Name: ApprovalDuration, dtype: int64\n",
            "\n",
            "west     101574\n",
            "north     31531\n",
            "south     26487\n",
            "Name: clientRegion, dtype: int64\n",
            "\n"
          ],
          "name": "stdout"
        }
      ]
    },
    {
      "cell_type": "code",
      "metadata": {
        "id": "rHlnowBJxXtB",
        "colab_type": "code",
        "outputId": "e271c820-a9fa-4f3c-e560-fd4d018c62d5",
        "colab": {
          "base_uri": "https://localhost:8080/",
          "height": 680
        }
      },
      "source": [
        "#converting categorical variables into dummy variables(one hot encording) - although here i used the pandas get_dummies\n",
        "nominal_columns = list(data.select_dtypes(include=['object']).columns)\n",
        "dummy_df = pd.get_dummies(data[nominal_columns], drop_first=True)\n",
        "#adding the dummy variables to the dataframe\n",
        "data = pd.concat([data, dummy_df], axis=1)\n",
        "#droping the categorical variables\n",
        "data = data.drop(nominal_columns, axis=1)\n",
        "\n",
        "data.info()"
      ],
      "execution_count": 0,
      "outputs": [
        {
          "output_type": "stream",
          "text": [
            "<class 'pandas.core.frame.DataFrame'>\n",
            "Int64Index: 159592 entries, 0 to 159595\n",
            "Data columns (total 34 columns):\n",
            "clientId                                   159592 non-null int64\n",
            "clientIncome                               159592 non-null float64\n",
            "clientAge                                  159592 non-null int64\n",
            "clientNumberPhoneContacts                  159592 non-null float64\n",
            "clientAvgCallsPerDay                       159592 non-null float64\n",
            "loanNumber                                 159592 non-null int64\n",
            "loanAmount                                 159592 non-null int64\n",
            "interestRate                               159592 non-null float64\n",
            "loanTerm                                   159592 non-null int64\n",
            "max_amount_taken                           159592 non-null int64\n",
            "max_tenor_taken                            159592 non-null int64\n",
            "firstPaymentRatio                          159592 non-null float64\n",
            "firstPaymentDefault                        159592 non-null float64\n",
            "loanDefault                                159592 non-null int64\n",
            "ApprovalDuration                           159592 non-null int64\n",
            "incomeVerified_true                        159592 non-null uint8\n",
            "clientGender_MALE                          159592 non-null uint8\n",
            "clientMaritalStatus_Married                159592 non-null uint8\n",
            "clientMaritalStatus_Other                  159592 non-null uint8\n",
            "clientMaritalStatus_Separated              159592 non-null uint8\n",
            "clientMaritalStatus_Single                 159592 non-null uint8\n",
            "clientMaritalStatus_Widowed                159592 non-null uint8\n",
            "clientLoanPurpose_education                159592 non-null uint8\n",
            "clientLoanPurpose_house                    159592 non-null uint8\n",
            "clientLoanPurpose_medical                  159592 non-null uint8\n",
            "clientLoanPurpose_other                    159592 non-null uint8\n",
            "clientResidentialStauts_Family Owned       159592 non-null uint8\n",
            "clientResidentialStauts_Other              159592 non-null uint8\n",
            "clientResidentialStauts_Own Residence      159592 non-null uint8\n",
            "clientResidentialStauts_Rented             159592 non-null uint8\n",
            "clientResidentialStauts_Temp. Residence    159592 non-null uint8\n",
            "clientTimeAtEmployer_below 36              159592 non-null uint8\n",
            "clientRegion_south                         159592 non-null uint8\n",
            "clientRegion_west                          159592 non-null uint8\n",
            "dtypes: float64(6), int64(9), uint8(19)\n",
            "memory usage: 22.4 MB\n"
          ],
          "name": "stdout"
        }
      ]
    },
    {
      "cell_type": "code",
      "metadata": {
        "id": "spKPfokGYL3L",
        "colab_type": "code",
        "outputId": "69b43eec-f959-4750-f682-fb353ba8bc18",
        "colab": {
          "base_uri": "https://localhost:8080/",
          "height": 697
        }
      },
      "source": [
        "#running the same step for the 'loanterm' variable as pandas get_dummies skiped it because its datatype was numeric.\n",
        "dum =pd.get_dummies(data['loanTerm'].astype(str), drop_first=True)\n",
        "data = pd.concat([data, dum], axis=1)\n",
        "data.drop('loanTerm', inplace = True, axis=1)\n",
        "data.info()"
      ],
      "execution_count": 0,
      "outputs": [
        {
          "output_type": "stream",
          "text": [
            "<class 'pandas.core.frame.DataFrame'>\n",
            "Int64Index: 159592 entries, 0 to 159595\n",
            "Data columns (total 35 columns):\n",
            "clientId                                   159592 non-null int64\n",
            "clientIncome                               159592 non-null float64\n",
            "clientAge                                  159592 non-null int64\n",
            "clientNumberPhoneContacts                  159592 non-null float64\n",
            "clientAvgCallsPerDay                       159592 non-null float64\n",
            "loanNumber                                 159592 non-null int64\n",
            "loanAmount                                 159592 non-null int64\n",
            "interestRate                               159592 non-null float64\n",
            "max_amount_taken                           159592 non-null int64\n",
            "max_tenor_taken                            159592 non-null int64\n",
            "firstPaymentRatio                          159592 non-null float64\n",
            "firstPaymentDefault                        159592 non-null float64\n",
            "loanDefault                                159592 non-null int64\n",
            "ApprovalDuration                           159592 non-null int64\n",
            "incomeVerified_true                        159592 non-null uint8\n",
            "clientGender_MALE                          159592 non-null uint8\n",
            "clientMaritalStatus_Married                159592 non-null uint8\n",
            "clientMaritalStatus_Other                  159592 non-null uint8\n",
            "clientMaritalStatus_Separated              159592 non-null uint8\n",
            "clientMaritalStatus_Single                 159592 non-null uint8\n",
            "clientMaritalStatus_Widowed                159592 non-null uint8\n",
            "clientLoanPurpose_education                159592 non-null uint8\n",
            "clientLoanPurpose_house                    159592 non-null uint8\n",
            "clientLoanPurpose_medical                  159592 non-null uint8\n",
            "clientLoanPurpose_other                    159592 non-null uint8\n",
            "clientResidentialStauts_Family Owned       159592 non-null uint8\n",
            "clientResidentialStauts_Other              159592 non-null uint8\n",
            "clientResidentialStauts_Own Residence      159592 non-null uint8\n",
            "clientResidentialStauts_Rented             159592 non-null uint8\n",
            "clientResidentialStauts_Temp. Residence    159592 non-null uint8\n",
            "clientTimeAtEmployer_below 36              159592 non-null uint8\n",
            "clientRegion_south                         159592 non-null uint8\n",
            "clientRegion_west                          159592 non-null uint8\n",
            "60                                         159592 non-null uint8\n",
            "90                                         159592 non-null uint8\n",
            "dtypes: float64(6), int64(8), uint8(21)\n",
            "memory usage: 21.5 MB\n"
          ],
          "name": "stdout"
        }
      ]
    },
    {
      "cell_type": "code",
      "metadata": {
        "id": "0GHWTHVZo4eD",
        "colab_type": "code",
        "colab": {}
      },
      "source": [
        "#making a copy of my preprocessed data\n",
        "data2 = data.copy()\n",
        "data2.to_csv('data2.csv')"
      ],
      "execution_count": 0,
      "outputs": []
    },
    {
      "cell_type": "code",
      "metadata": {
        "id": "VXBcmBCFxw-p",
        "colab_type": "code",
        "colab": {}
      },
      "source": [
        "#getting the X and Y(splitting the dateframe into dependent and independent variables)\n",
        "y=data['loanDefault']\n",
        "X = data.drop(['loanDefault', 'clientId'],axis=1)"
      ],
      "execution_count": 0,
      "outputs": []
    },
    {
      "cell_type": "code",
      "metadata": {
        "id": "A3ont17oxw4B",
        "colab_type": "code",
        "outputId": "e8f504cf-eebe-4303-b0d5-57ac87823588",
        "colab": {
          "base_uri": "https://localhost:8080/",
          "height": 105
        }
      },
      "source": [
        "#using StandardScaler to scale the X variable so as to get uptimal results for the model\n",
        "from sklearn.preprocessing import StandardScaler\n",
        "scaler = StandardScaler()\n",
        "scaler.fit(X)\n",
        "X = scaler.transform(X)"
      ],
      "execution_count": 0,
      "outputs": [
        {
          "output_type": "stream",
          "text": [
            "/usr/local/lib/python3.6/dist-packages/sklearn/preprocessing/data.py:645: DataConversionWarning: Data with input dtype uint8, int64, float64 were all converted to float64 by StandardScaler.\n",
            "  return self.partial_fit(X, y)\n",
            "/usr/local/lib/python3.6/dist-packages/ipykernel_launcher.py:4: DataConversionWarning: Data with input dtype uint8, int64, float64 were all converted to float64 by StandardScaler.\n",
            "  after removing the cwd from sys.path.\n"
          ],
          "name": "stderr"
        }
      ]
    },
    {
      "cell_type": "markdown",
      "metadata": {
        "id": "GLnxdbyjeZAz",
        "colab_type": "text"
      },
      "source": [
        "# IDENTIFYING PRINCIPAL COMPONENTES OF THE DATASET"
      ]
    },
    {
      "cell_type": "code",
      "metadata": {
        "id": "rz5iA6gMxwxh",
        "colab_type": "code",
        "colab": {}
      },
      "source": [
        "#Performing PCA without identifying the number of components to retain\n",
        "from sklearn.decomposition import PCA\n",
        "pca_obj = PCA()\n",
        "x_trans = pca_obj.fit_transform(X)  "
      ],
      "execution_count": 0,
      "outputs": []
    },
    {
      "cell_type": "code",
      "metadata": {
        "id": "jDCYt-wsgXPB",
        "colab_type": "code",
        "outputId": "7ef82c82-4311-4bac-a775-4ed9bf6a4337",
        "colab": {
          "base_uri": "https://localhost:8080/",
          "height": 34
        }
      },
      "source": [
        "#creating a loop to find the number of components that explained 80% for the variance in the dataset\n",
        "#here i kept adding the variance percentages until i got the desired value (0.80)\n",
        "s = pca_obj.explained_variance_ratio_\n",
        "sum=0.0\n",
        "comp=0\n",
        "\n",
        "for _ in s:\n",
        "    sum += _\n",
        "    comp += 1\n",
        "    if(sum>=0.80):\n",
        "        break\n",
        "\n",
        "comp"
      ],
      "execution_count": 0,
      "outputs": [
        {
          "output_type": "execute_result",
          "data": {
            "text/plain": [
              "19"
            ]
          },
          "metadata": {
            "tags": []
          },
          "execution_count": 40
        }
      ]
    },
    {
      "cell_type": "code",
      "metadata": {
        "id": "CF3Y1CA3pnhL",
        "colab_type": "code",
        "colab": {}
      },
      "source": [
        "#creating a new instance of the PCA, but this time, stating the number of components that would explain 80% of the variance in the dataset\n",
        "pca = PCA(n_components=19)\n",
        "x_pca= pca.fit_transform(X)  "
      ],
      "execution_count": 0,
      "outputs": []
    },
    {
      "cell_type": "code",
      "metadata": {
        "id": "-y-6drA9qkJT",
        "colab_type": "code",
        "outputId": "754a7080-4791-4148-fc1a-39dce0a81c56",
        "colab": {
          "base_uri": "https://localhost:8080/",
          "height": 34
        }
      },
      "source": [
        "#confirming the variance ratio\n",
        "pca.explained_variance_ratio_.sum()"
      ],
      "execution_count": 0,
      "outputs": [
        {
          "output_type": "execute_result",
          "data": {
            "text/plain": [
              "0.8029230128048757"
            ]
          },
          "metadata": {
            "tags": []
          },
          "execution_count": 42
        }
      ]
    },
    {
      "cell_type": "code",
      "metadata": {
        "id": "PuPKX-mcxwrS",
        "colab_type": "code",
        "colab": {}
      },
      "source": [
        "#spliting the data into test and train\n",
        "from sklearn.model_selection import train_test_split\n",
        "X_train, X_test, y_train, y_test = train_test_split(x_pca, y, test_size=0.3, random_state=50)"
      ],
      "execution_count": 0,
      "outputs": []
    },
    {
      "cell_type": "markdown",
      "metadata": {
        "id": "bX5MyB6AXxjW",
        "colab_type": "text"
      },
      "source": [
        "# The Random Forest Model"
      ]
    },
    {
      "cell_type": "code",
      "metadata": {
        "id": "jAe00AsHxwli",
        "colab_type": "code",
        "outputId": "a85f11f2-356c-41e1-8b29-2c014669d38e",
        "colab": {
          "base_uri": "https://localhost:8080/",
          "height": 136
        }
      },
      "source": [
        "#importing the libaries and and creating and fitting an instance of the RandomForestClassifier to the training set\n",
        "from sklearn.ensemble import RandomForestClassifier\n",
        "rfc = RandomForestClassifier(n_estimators=500)\n",
        "rfc.fit(X_train,y_train)"
      ],
      "execution_count": 0,
      "outputs": [
        {
          "output_type": "execute_result",
          "data": {
            "text/plain": [
              "RandomForestClassifier(bootstrap=True, class_weight=None, criterion='gini',\n",
              "            max_depth=None, max_features='auto', max_leaf_nodes=None,\n",
              "            min_impurity_decrease=0.0, min_impurity_split=None,\n",
              "            min_samples_leaf=1, min_samples_split=2,\n",
              "            min_weight_fraction_leaf=0.0, n_estimators=500, n_jobs=None,\n",
              "            oob_score=False, random_state=None, verbose=0,\n",
              "            warm_start=False)"
            ]
          },
          "metadata": {
            "tags": []
          },
          "execution_count": 59
        }
      ]
    },
    {
      "cell_type": "code",
      "metadata": {
        "id": "AjR1uxQZxwf8",
        "colab_type": "code",
        "colab": {}
      },
      "source": [
        "#testing the model on the test set\n",
        "predictions = rfc.predict_proba(X_test)\n",
        "predictions = predictions[:, 1]\n",
        "#setting a threshhold on the probability. this case being a loan default prediction, a 30% chance of loan default should be flagged for further investigation\n",
        "predictions = (predictions > 0.3)"
      ],
      "execution_count": 0,
      "outputs": []
    },
    {
      "cell_type": "code",
      "metadata": {
        "id": "em0YPvADxwap",
        "colab_type": "code",
        "outputId": "43761842-59d7-4201-a581-edc58d745ec4",
        "colab": {
          "base_uri": "https://localhost:8080/",
          "height": 170
        }
      },
      "source": [
        "#evaluating the model using classification_report, confusion matric and AUC\n",
        "from sklearn.metrics import classification_report,confusion_matrix,roc_auc_score\n",
        "print(classification_report(y_test,predictions))\n",
        "#print(/n)\n"
      ],
      "execution_count": 0,
      "outputs": [
        {
          "output_type": "stream",
          "text": [
            "              precision    recall  f1-score   support\n",
            "\n",
            "           0       0.90      0.86      0.88     34383\n",
            "           1       0.68      0.76      0.72     13495\n",
            "\n",
            "   micro avg       0.83      0.83      0.83     47878\n",
            "   macro avg       0.79      0.81      0.80     47878\n",
            "weighted avg       0.84      0.83      0.83     47878\n",
            "\n"
          ],
          "name": "stdout"
        }
      ]
    },
    {
      "cell_type": "code",
      "metadata": {
        "id": "HYZhAlS6oAvH",
        "colab_type": "code",
        "outputId": "f2eeea54-8aaf-42ff-dbd6-64456d5a145e",
        "colab": {
          "base_uri": "https://localhost:8080/",
          "height": 51
        }
      },
      "source": [
        "#confusion matrix\n",
        "print(confusion_matrix(y_test,predictions))"
      ],
      "execution_count": 0,
      "outputs": [
        {
          "output_type": "stream",
          "text": [
            "[[29618  4765]\n",
            " [ 3264 10231]]\n"
          ],
          "name": "stdout"
        }
      ]
    },
    {
      "cell_type": "code",
      "metadata": {
        "id": "Gu_C1BdKmY32",
        "colab_type": "code",
        "outputId": "1955b506-8246-412b-a33e-ff3e7281e677",
        "colab": {
          "base_uri": "https://localhost:8080/",
          "height": 34
        }
      },
      "source": [
        "#the area under the curve score(auc) \n",
        "roc_auc_score(y_test,predictions)"
      ],
      "execution_count": 0,
      "outputs": [
        {
          "output_type": "execute_result",
          "data": {
            "text/plain": [
              "0.8097733563131448"
            ]
          },
          "metadata": {
            "tags": []
          },
          "execution_count": 63
        }
      ]
    },
    {
      "cell_type": "markdown",
      "metadata": {
        "id": "gqIlk3ubVXKm",
        "colab_type": "text"
      },
      "source": [
        "# TUNNING THE RANDOM FOREST HYPERPAREMETERS\n"
      ]
    },
    {
      "cell_type": "code",
      "metadata": {
        "id": "hwdlH58FVWz0",
        "colab_type": "code",
        "colab": {}
      },
      "source": [
        "from sklearn.model_selection import RandomizedSearchCV\n",
        "\n",
        "# Number of trees in random forest\n",
        "n_estimators = [int(x) for x in np.linspace(start = 800, stop = 2000, num = 10)]\n",
        "# Number of features to consider at every split\n",
        "max_features = ['auto', 'sqrt']\n",
        "# Maximum number of levels in tree\n",
        "max_depth = [int(x) for x in np.linspace(10, 90, num = 11)]\n",
        "max_depth.append(None)\n",
        "# Minimum number of samples required to split a node\n",
        "min_samples_split = [2, 5, 10]\n",
        "# Minimum number of samples required at each leaf node\n",
        "min_samples_leaf = [1, 2, 4]\n",
        "# Method of selecting samples for training each tree\n",
        "bootstrap = [True, False]\n",
        "# Create the random grid\n",
        "random_grid = {'n_estimators': n_estimators,\n",
        "               'max_features': max_features,\n",
        "               'max_depth': max_depth,\n",
        "               'min_samples_split': min_samples_split,\n",
        "               'min_samples_leaf': min_samples_leaf,\n",
        "               'bootstrap': bootstrap}\n"
      ],
      "execution_count": 0,
      "outputs": []
    },
    {
      "cell_type": "markdown",
      "metadata": {
        "id": "VnZTLDJVWD1x",
        "colab_type": "text"
      },
      "source": [
        "# Using the random grid to search for best hyperparameters"
      ]
    },
    {
      "cell_type": "code",
      "metadata": {
        "id": "d-B6kNb-VWaG",
        "colab_type": "code",
        "colab": {}
      },
      "source": [
        "#creating the base model to tune\n",
        "from sklearn.ensemble import RandomForestRegressor\n",
        "rf = RandomForestRegressor()"
      ],
      "execution_count": 0,
      "outputs": []
    },
    {
      "cell_type": "code",
      "metadata": {
        "id": "RK_AB--m43EX",
        "colab_type": "code",
        "colab": {}
      },
      "source": [
        "# Random search of parameters, using 2 fold cross validation, \n",
        "# search across 50 different combinations, and use all available cores\n",
        "rf_random = RandomizedSearchCV(estimator = rf, param_distributions = random_grid, n_iter = 10, cv = 3, verbose=2, random_state=42, n_jobs = 3)\n"
      ],
      "execution_count": 0,
      "outputs": []
    },
    {
      "cell_type": "code",
      "metadata": {
        "id": "BjfoueU45EZq",
        "colab_type": "code",
        "colab": {}
      },
      "source": [
        "# Fit the random search model\n",
        "rf_random.fit(X_train,y_train)"
      ],
      "execution_count": 0,
      "outputs": []
    },
    {
      "cell_type": "markdown",
      "metadata": {
        "id": "QCzBuK2jqTBF",
        "colab_type": "text"
      },
      "source": [
        "#Evaluating the tuned random random forest model"
      ]
    },
    {
      "cell_type": "code",
      "metadata": {
        "id": "O-AVhti2pq8r",
        "colab_type": "code",
        "colab": {}
      },
      "source": [
        "#printing the classification report\n",
        "new_predictions = rf_random.predict(X_test)\n",
        "print(classification_report(y_test,new_predictions))"
      ],
      "execution_count": 0,
      "outputs": []
    },
    {
      "cell_type": "code",
      "metadata": {
        "id": "h5fIFNj-p0ub",
        "colab_type": "code",
        "colab": {}
      },
      "source": [
        "#printing the confusion matrix\n",
        "print(confusion_matrix(y_test,new_predictions))"
      ],
      "execution_count": 0,
      "outputs": []
    },
    {
      "cell_type": "code",
      "metadata": {
        "id": "EeqEJqvKqGFo",
        "colab_type": "code",
        "colab": {}
      },
      "source": [
        "#printing the auc score\n",
        "roc_auc_score(y_test,new_predictions)"
      ],
      "execution_count": 0,
      "outputs": []
    },
    {
      "cell_type": "code",
      "metadata": {
        "id": "YWZKksEfWidA",
        "colab_type": "code",
        "colab": {}
      },
      "source": [
        "#printing the best parameters identified by the model\n",
        "rf_random.best_params_"
      ],
      "execution_count": 0,
      "outputs": []
    },
    {
      "cell_type": "markdown",
      "metadata": {
        "id": "PT66VxfOYq-6",
        "colab_type": "text"
      },
      "source": [
        "# THE NEURAL NETWORK MODEL"
      ]
    },
    {
      "cell_type": "code",
      "metadata": {
        "id": "zm6sWSL-xwUm",
        "colab_type": "code",
        "outputId": "5b9a6998-a2e2-4e24-bec8-2d1d8bf191e4",
        "colab": {
          "base_uri": "https://localhost:8080/",
          "height": 34
        }
      },
      "source": [
        "#Importing the libaries\n",
        "import keras\n",
        "from keras.models import Sequential\n",
        "from keras.layers import Dense"
      ],
      "execution_count": 0,
      "outputs": [
        {
          "output_type": "stream",
          "text": [
            "Using TensorFlow backend.\n"
          ],
          "name": "stderr"
        }
      ]
    },
    {
      "cell_type": "markdown",
      "metadata": {
        "id": "aipMhNYJWnbs",
        "colab_type": "text"
      },
      "source": [
        "#Initialising the ANN"
      ]
    },
    {
      "cell_type": "code",
      "metadata": {
        "id": "rq7cEiobxwJJ",
        "colab_type": "code",
        "colab": {}
      },
      "source": [
        "#initialising the ANN\n",
        "#defining the sequence of layers\n",
        "classifier = Sequential()"
      ],
      "execution_count": 0,
      "outputs": []
    },
    {
      "cell_type": "code",
      "metadata": {
        "id": "8Ymi1a3_xwDS",
        "colab_type": "code",
        "outputId": "216d9238-7a63-417c-b3b9-853e6b4275e7",
        "colab": {
          "base_uri": "https://localhost:8080/",
          "height": 122
        }
      },
      "source": [
        "#adding the input layer and the first hidden layer\n",
        "classifier.add(Dense(output_dim=10, init='uniform', activation = 'relu', input_dim=19))"
      ],
      "execution_count": 0,
      "outputs": [
        {
          "output_type": "stream",
          "text": [
            "WARNING:tensorflow:From /usr/local/lib/python3.6/dist-packages/tensorflow/python/framework/op_def_library.py:263: colocate_with (from tensorflow.python.framework.ops) is deprecated and will be removed in a future version.\n",
            "Instructions for updating:\n",
            "Colocations handled automatically by placer.\n"
          ],
          "name": "stdout"
        },
        {
          "output_type": "stream",
          "text": [
            "/usr/local/lib/python3.6/dist-packages/ipykernel_launcher.py:1: UserWarning: Update your `Dense` call to the Keras 2 API: `Dense(activation=\"relu\", input_dim=19, units=10, kernel_initializer=\"uniform\")`\n",
            "  \"\"\"Entry point for launching an IPython kernel.\n"
          ],
          "name": "stderr"
        }
      ]
    },
    {
      "cell_type": "code",
      "metadata": {
        "id": "YPof5U-Qxv7r",
        "colab_type": "code",
        "outputId": "d2350f3a-9faa-467f-bf9a-968235e9ab24",
        "colab": {
          "base_uri": "https://localhost:8080/",
          "height": 71
        }
      },
      "source": [
        "#adding the second hidden layer\n",
        "classifier.add(Dense(output_dim=10, init='uniform', activation = 'relu'))"
      ],
      "execution_count": 0,
      "outputs": [
        {
          "output_type": "stream",
          "text": [
            "/usr/local/lib/python3.6/dist-packages/ipykernel_launcher.py:1: UserWarning: Update your `Dense` call to the Keras 2 API: `Dense(activation=\"relu\", units=10, kernel_initializer=\"uniform\")`\n",
            "  \"\"\"Entry point for launching an IPython kernel.\n"
          ],
          "name": "stderr"
        }
      ]
    },
    {
      "cell_type": "code",
      "metadata": {
        "id": "T-0fSiY-xv1G",
        "colab_type": "code",
        "outputId": "61ba069a-84db-4377-8b57-ae5366d82f36",
        "colab": {
          "base_uri": "https://localhost:8080/",
          "height": 71
        }
      },
      "source": [
        "#adding the output layer\n",
        "classifier.add(Dense(output_dim=1, init='uniform', activation = 'sigmoid'))"
      ],
      "execution_count": 0,
      "outputs": [
        {
          "output_type": "stream",
          "text": [
            "/usr/local/lib/python3.6/dist-packages/ipykernel_launcher.py:1: UserWarning: Update your `Dense` call to the Keras 2 API: `Dense(activation=\"sigmoid\", units=1, kernel_initializer=\"uniform\")`\n",
            "  \"\"\"Entry point for launching an IPython kernel.\n"
          ],
          "name": "stderr"
        }
      ]
    },
    {
      "cell_type": "code",
      "metadata": {
        "id": "54PZ0X5IxvuM",
        "colab_type": "code",
        "colab": {}
      },
      "source": [
        "#compiling the ANN\n",
        "classifier.compile(optimizer = 'adam', loss='binary_crossentropy', metrics=['accuracy'])"
      ],
      "execution_count": 0,
      "outputs": []
    },
    {
      "cell_type": "code",
      "metadata": {
        "id": "vjLWy1paxvj5",
        "colab_type": "code",
        "outputId": "785fd929-869b-4b01-c258-2227781fedd2",
        "colab": {
          "base_uri": "https://localhost:8080/",
          "height": 3505
        }
      },
      "source": [
        "#fitting the ANN to the training set\n",
        "classifier.fit(X_train, y_train, batch_size =10, epochs = 100)"
      ],
      "execution_count": 0,
      "outputs": [
        {
          "output_type": "stream",
          "text": [
            "WARNING:tensorflow:From /usr/local/lib/python3.6/dist-packages/tensorflow/python/ops/math_ops.py:3066: to_int32 (from tensorflow.python.ops.math_ops) is deprecated and will be removed in a future version.\n",
            "Instructions for updating:\n",
            "Use tf.cast instead.\n",
            "Epoch 1/100\n",
            "111714/111714 [==============================] - 51s 459us/step - loss: 0.3788 - acc: 0.8411\n",
            "Epoch 2/100\n",
            "111714/111714 [==============================] - 48s 434us/step - loss: 0.3467 - acc: 0.8465\n",
            "Epoch 3/100\n",
            "111714/111714 [==============================] - 48s 432us/step - loss: 0.3457 - acc: 0.8471\n",
            "Epoch 4/100\n",
            "111714/111714 [==============================] - 47s 423us/step - loss: 0.3450 - acc: 0.8481\n",
            "Epoch 5/100\n",
            "111714/111714 [==============================] - 47s 420us/step - loss: 0.3446 - acc: 0.8475\n",
            "Epoch 6/100\n",
            "111714/111714 [==============================] - 48s 431us/step - loss: 0.3443 - acc: 0.8482\n",
            "Epoch 7/100\n",
            "111714/111714 [==============================] - 48s 431us/step - loss: 0.3443 - acc: 0.8481\n",
            "Epoch 8/100\n",
            "111714/111714 [==============================] - 48s 433us/step - loss: 0.3439 - acc: 0.8483\n",
            "Epoch 9/100\n",
            "111714/111714 [==============================] - 48s 433us/step - loss: 0.3434 - acc: 0.8492\n",
            "Epoch 10/100\n",
            "111714/111714 [==============================] - 49s 437us/step - loss: 0.3429 - acc: 0.8493\n",
            "Epoch 11/100\n",
            "111714/111714 [==============================] - 49s 436us/step - loss: 0.3423 - acc: 0.8499\n",
            "Epoch 12/100\n",
            "111714/111714 [==============================] - 49s 436us/step - loss: 0.3420 - acc: 0.8504\n",
            "Epoch 13/100\n",
            "111714/111714 [==============================] - 49s 434us/step - loss: 0.3419 - acc: 0.8493\n",
            "Epoch 14/100\n",
            "111714/111714 [==============================] - 48s 433us/step - loss: 0.3417 - acc: 0.8499\n",
            "Epoch 15/100\n",
            "111714/111714 [==============================] - 49s 434us/step - loss: 0.3415 - acc: 0.8496\n",
            "Epoch 16/100\n",
            "111714/111714 [==============================] - 49s 435us/step - loss: 0.3414 - acc: 0.8497\n",
            "Epoch 17/100\n",
            "111714/111714 [==============================] - 49s 435us/step - loss: 0.3414 - acc: 0.8497\n",
            "Epoch 18/100\n",
            "111714/111714 [==============================] - 49s 438us/step - loss: 0.3413 - acc: 0.8502\n",
            "Epoch 19/100\n",
            "111714/111714 [==============================] - 49s 440us/step - loss: 0.3413 - acc: 0.8506\n",
            "Epoch 20/100\n",
            "111714/111714 [==============================] - 49s 435us/step - loss: 0.3413 - acc: 0.8502\n",
            "Epoch 21/100\n",
            "111714/111714 [==============================] - 48s 433us/step - loss: 0.3413 - acc: 0.8502\n",
            "Epoch 22/100\n",
            "111714/111714 [==============================] - 48s 434us/step - loss: 0.3409 - acc: 0.8502\n",
            "Epoch 23/100\n",
            "111714/111714 [==============================] - 49s 438us/step - loss: 0.3411 - acc: 0.8500\n",
            "Epoch 24/100\n",
            "111714/111714 [==============================] - 48s 434us/step - loss: 0.3412 - acc: 0.8494\n",
            "Epoch 25/100\n",
            "111714/111714 [==============================] - 49s 436us/step - loss: 0.3408 - acc: 0.8503\n",
            "Epoch 26/100\n",
            "111714/111714 [==============================] - 48s 434us/step - loss: 0.3411 - acc: 0.8502\n",
            "Epoch 27/100\n",
            "111714/111714 [==============================] - 57s 510us/step - loss: 0.3410 - acc: 0.8506\n",
            "Epoch 28/100\n",
            "111714/111714 [==============================] - 51s 458us/step - loss: 0.3409 - acc: 0.8505\n",
            "Epoch 29/100\n",
            "111714/111714 [==============================] - 51s 460us/step - loss: 0.3409 - acc: 0.8502\n",
            "Epoch 30/100\n",
            "111714/111714 [==============================] - 51s 457us/step - loss: 0.3409 - acc: 0.8501\n",
            "Epoch 31/100\n",
            "111714/111714 [==============================] - 50s 451us/step - loss: 0.3406 - acc: 0.8503\n",
            "Epoch 32/100\n",
            "111714/111714 [==============================] - 49s 436us/step - loss: 0.3408 - acc: 0.8500\n",
            "Epoch 33/100\n",
            "111714/111714 [==============================] - 49s 438us/step - loss: 0.3404 - acc: 0.8506\n",
            "Epoch 34/100\n",
            "111714/111714 [==============================] - 49s 438us/step - loss: 0.3405 - acc: 0.8502\n",
            "Epoch 35/100\n",
            "111714/111714 [==============================] - 49s 439us/step - loss: 0.3406 - acc: 0.8504\n",
            "Epoch 36/100\n",
            "111714/111714 [==============================] - 49s 438us/step - loss: 0.3407 - acc: 0.8503\n",
            "Epoch 37/100\n",
            "111714/111714 [==============================] - 49s 440us/step - loss: 0.3405 - acc: 0.8502\n",
            "Epoch 38/100\n",
            "111714/111714 [==============================] - 49s 439us/step - loss: 0.3403 - acc: 0.8505\n",
            "Epoch 39/100\n",
            "111714/111714 [==============================] - 49s 439us/step - loss: 0.3405 - acc: 0.8504\n",
            "Epoch 40/100\n",
            "111714/111714 [==============================] - 49s 437us/step - loss: 0.3404 - acc: 0.8498\n",
            "Epoch 41/100\n",
            "111714/111714 [==============================] - 49s 438us/step - loss: 0.3403 - acc: 0.8498\n",
            "Epoch 42/100\n",
            "111714/111714 [==============================] - 49s 438us/step - loss: 0.3404 - acc: 0.8503\n",
            "Epoch 43/100\n",
            "111714/111714 [==============================] - 49s 437us/step - loss: 0.3403 - acc: 0.8506\n",
            "Epoch 44/100\n",
            "111714/111714 [==============================] - 49s 436us/step - loss: 0.3402 - acc: 0.8507\n",
            "Epoch 45/100\n",
            "111714/111714 [==============================] - 48s 433us/step - loss: 0.3402 - acc: 0.8507\n",
            "Epoch 46/100\n",
            "111714/111714 [==============================] - 48s 433us/step - loss: 0.3404 - acc: 0.8507\n",
            "Epoch 47/100\n",
            "111714/111714 [==============================] - 49s 437us/step - loss: 0.3401 - acc: 0.8503\n",
            "Epoch 48/100\n",
            "111714/111714 [==============================] - 49s 440us/step - loss: 0.3403 - acc: 0.8505\n",
            "Epoch 49/100\n",
            "111714/111714 [==============================] - 49s 438us/step - loss: 0.3404 - acc: 0.8503\n",
            "Epoch 50/100\n",
            "111714/111714 [==============================] - 49s 436us/step - loss: 0.3403 - acc: 0.8505\n",
            "Epoch 51/100\n",
            "111714/111714 [==============================] - 49s 435us/step - loss: 0.3402 - acc: 0.8505\n",
            "Epoch 52/100\n",
            "111714/111714 [==============================] - 49s 435us/step - loss: 0.3401 - acc: 0.8506\n",
            "Epoch 53/100\n",
            "111714/111714 [==============================] - 49s 435us/step - loss: 0.3400 - acc: 0.8506\n",
            "Epoch 54/100\n",
            "111714/111714 [==============================] - 49s 439us/step - loss: 0.3401 - acc: 0.8506\n",
            "Epoch 55/100\n",
            "111714/111714 [==============================] - 48s 433us/step - loss: 0.3400 - acc: 0.8510\n",
            "Epoch 56/100\n",
            "111714/111714 [==============================] - 47s 425us/step - loss: 0.3401 - acc: 0.8503\n",
            "Epoch 57/100\n",
            "111714/111714 [==============================] - 47s 420us/step - loss: 0.3400 - acc: 0.8499\n",
            "Epoch 58/100\n",
            "111714/111714 [==============================] - 47s 421us/step - loss: 0.3399 - acc: 0.8503\n",
            "Epoch 59/100\n",
            "111714/111714 [==============================] - 47s 421us/step - loss: 0.3400 - acc: 0.8510\n",
            "Epoch 60/100\n",
            "111714/111714 [==============================] - 48s 434us/step - loss: 0.3398 - acc: 0.8507\n",
            "Epoch 61/100\n",
            "111714/111714 [==============================] - 49s 440us/step - loss: 0.3398 - acc: 0.8504\n",
            "Epoch 62/100\n",
            "111714/111714 [==============================] - 49s 438us/step - loss: 0.3398 - acc: 0.8501\n",
            "Epoch 63/100\n",
            "111714/111714 [==============================] - 49s 436us/step - loss: 0.3397 - acc: 0.8508\n",
            "Epoch 64/100\n",
            "111714/111714 [==============================] - 49s 437us/step - loss: 0.3398 - acc: 0.8508\n",
            "Epoch 65/100\n",
            "111714/111714 [==============================] - 49s 435us/step - loss: 0.3399 - acc: 0.8508\n",
            "Epoch 66/100\n",
            "111714/111714 [==============================] - 49s 437us/step - loss: 0.3399 - acc: 0.8500\n",
            "Epoch 67/100\n",
            "111714/111714 [==============================] - 49s 435us/step - loss: 0.3398 - acc: 0.8503\n",
            "Epoch 68/100\n",
            "111714/111714 [==============================] - 49s 436us/step - loss: 0.3397 - acc: 0.8509\n",
            "Epoch 69/100\n",
            "111714/111714 [==============================] - 49s 435us/step - loss: 0.3398 - acc: 0.8510\n",
            "Epoch 70/100\n",
            "111714/111714 [==============================] - 49s 435us/step - loss: 0.3397 - acc: 0.8508\n",
            "Epoch 71/100\n",
            "111714/111714 [==============================] - 48s 432us/step - loss: 0.3397 - acc: 0.8509\n",
            "Epoch 72/100\n",
            "111714/111714 [==============================] - 48s 430us/step - loss: 0.3397 - acc: 0.8506\n",
            "Epoch 73/100\n",
            "111714/111714 [==============================] - 48s 428us/step - loss: 0.3401 - acc: 0.8506\n",
            "Epoch 74/100\n",
            "111714/111714 [==============================] - 48s 431us/step - loss: 0.3396 - acc: 0.8506\n",
            "Epoch 75/100\n",
            "111714/111714 [==============================] - 48s 428us/step - loss: 0.3396 - acc: 0.8510\n",
            "Epoch 76/100\n",
            "111714/111714 [==============================] - 48s 426us/step - loss: 0.3396 - acc: 0.8501\n",
            "Epoch 77/100\n",
            "111714/111714 [==============================] - 48s 428us/step - loss: 0.3398 - acc: 0.8509\n",
            "Epoch 78/100\n",
            "111714/111714 [==============================] - 47s 422us/step - loss: 0.3395 - acc: 0.8506\n",
            "Epoch 79/100\n",
            "111714/111714 [==============================] - 48s 428us/step - loss: 0.3397 - acc: 0.8508\n",
            "Epoch 80/100\n",
            "111714/111714 [==============================] - 48s 434us/step - loss: 0.3396 - acc: 0.8506\n",
            "Epoch 81/100\n",
            "111714/111714 [==============================] - 48s 432us/step - loss: 0.3398 - acc: 0.8505\n",
            "Epoch 82/100\n",
            "111714/111714 [==============================] - 48s 428us/step - loss: 0.3396 - acc: 0.8505\n",
            "Epoch 83/100\n",
            "111714/111714 [==============================] - 48s 427us/step - loss: 0.3400 - acc: 0.8501\n",
            "Epoch 84/100\n",
            "111714/111714 [==============================] - 47s 421us/step - loss: 0.3396 - acc: 0.8504\n",
            "Epoch 85/100\n",
            "111714/111714 [==============================] - 47s 420us/step - loss: 0.3397 - acc: 0.8512\n",
            "Epoch 86/100\n",
            "111714/111714 [==============================] - 47s 417us/step - loss: 0.3397 - acc: 0.8507\n",
            "Epoch 87/100\n",
            "111714/111714 [==============================] - 48s 429us/step - loss: 0.3397 - acc: 0.8514\n",
            "Epoch 88/100\n",
            "111714/111714 [==============================] - 48s 428us/step - loss: 0.3396 - acc: 0.8509\n",
            "Epoch 89/100\n",
            "111714/111714 [==============================] - 47s 422us/step - loss: 0.3395 - acc: 0.8506\n",
            "Epoch 90/100\n",
            "111714/111714 [==============================] - 48s 427us/step - loss: 0.3398 - acc: 0.8509\n",
            "Epoch 91/100\n",
            "111714/111714 [==============================] - 48s 429us/step - loss: 0.3397 - acc: 0.8504\n",
            "Epoch 92/100\n",
            "111714/111714 [==============================] - 48s 427us/step - loss: 0.3398 - acc: 0.8509\n",
            "Epoch 93/100\n",
            "111714/111714 [==============================] - 48s 433us/step - loss: 0.3396 - acc: 0.8506\n",
            "Epoch 94/100\n",
            "111714/111714 [==============================] - 49s 434us/step - loss: 0.3398 - acc: 0.8514\n",
            "Epoch 95/100\n",
            "111714/111714 [==============================] - 48s 431us/step - loss: 0.3396 - acc: 0.8502\n",
            "Epoch 96/100\n",
            "111714/111714 [==============================] - 49s 437us/step - loss: 0.3398 - acc: 0.8504\n",
            "Epoch 97/100\n",
            "111714/111714 [==============================] - 49s 436us/step - loss: 0.3396 - acc: 0.8505\n",
            "Epoch 98/100\n",
            "111714/111714 [==============================] - 49s 436us/step - loss: 0.3395 - acc: 0.8510\n",
            "Epoch 99/100\n",
            "111714/111714 [==============================] - 48s 434us/step - loss: 0.3396 - acc: 0.8512\n",
            "Epoch 100/100\n",
            "111714/111714 [==============================] - 49s 438us/step - loss: 0.3397 - acc: 0.8505\n"
          ],
          "name": "stdout"
        },
        {
          "output_type": "execute_result",
          "data": {
            "text/plain": [
              "<keras.callbacks.History at 0x7f9e3905f860>"
            ]
          },
          "metadata": {
            "tags": []
          },
          "execution_count": 70
        }
      ]
    },
    {
      "cell_type": "code",
      "metadata": {
        "id": "vhp1ZrPcxvZV",
        "colab_type": "code",
        "colab": {}
      },
      "source": [
        "#testing the model on the test set\n",
        "y_pred = classifier.predict(X_test)\n"
      ],
      "execution_count": 0,
      "outputs": []
    },
    {
      "cell_type": "code",
      "metadata": {
        "id": "Q0IsTFEwxlUR",
        "colab_type": "code",
        "colab": {}
      },
      "source": [
        "#setting a threshhold on the probability. this case being a loan default prediction, a 30% chance of loan default should be flagged for further investigation\n",
        "pred=(y_pred >0.3)"
      ],
      "execution_count": 0,
      "outputs": []
    },
    {
      "cell_type": "code",
      "metadata": {
        "id": "AFGd97zsvOIO",
        "colab_type": "code",
        "outputId": "263e1485-d650-4085-8f46-964c77cd2082",
        "colab": {
          "base_uri": "https://localhost:8080/",
          "height": 170
        }
      },
      "source": [
        "#classification report\n",
        "print(classification_report(y_test,pred))"
      ],
      "execution_count": 0,
      "outputs": [
        {
          "output_type": "stream",
          "text": [
            "              precision    recall  f1-score   support\n",
            "\n",
            "           0       0.90      0.89      0.89     34383\n",
            "           1       0.72      0.75      0.74     13495\n",
            "\n",
            "   micro avg       0.85      0.85      0.85     47878\n",
            "   macro avg       0.81      0.82      0.82     47878\n",
            "weighted avg       0.85      0.85      0.85     47878\n",
            "\n"
          ],
          "name": "stdout"
        }
      ]
    },
    {
      "cell_type": "code",
      "metadata": {
        "id": "SgcEXX-pvbx6",
        "colab_type": "code",
        "outputId": "4de4ab70-73f7-41c8-fe22-1602ddc0da13",
        "colab": {
          "base_uri": "https://localhost:8080/",
          "height": 51
        }
      },
      "source": [
        "#confusion matrix\n",
        "print(confusion_matrix(y_test,pred))"
      ],
      "execution_count": 0,
      "outputs": [
        {
          "output_type": "stream",
          "text": [
            "[[30452  3931]\n",
            " [ 3323 10172]]\n"
          ],
          "name": "stdout"
        }
      ]
    },
    {
      "cell_type": "code",
      "metadata": {
        "id": "GUrnJrjcyqLb",
        "colab_type": "code",
        "outputId": "2f00efe3-18f0-4760-c545-9340e2875e5b",
        "colab": {
          "base_uri": "https://localhost:8080/",
          "height": 34
        }
      },
      "source": [
        "#area under the curve score\n",
        "roc_auc_score(y_test,pred)"
      ],
      "execution_count": 0,
      "outputs": [
        {
          "output_type": "execute_result",
          "data": {
            "text/plain": [
              "0.819715448054653"
            ]
          },
          "metadata": {
            "tags": []
          },
          "execution_count": 76
        }
      ]
    },
    {
      "cell_type": "markdown",
      "metadata": {
        "id": "6ZEQsICWn5D6",
        "colab_type": "text"
      },
      "source": [
        "# In conclusion\n"
      ]
    },
    {
      "cell_type": "markdown",
      "metadata": {
        "id": "1x0LOyGVn-2g",
        "colab_type": "text"
      },
      "source": [
        "Choosing a performance metric always depends on the business problem being solved. we use Precision when the costs of false positives are high and we use Recall when the cost of false negatives is high.\n",
        "given the business problem of loan defaults, the cost of a false negative would be to disburse a loan to a defaulter there by making the company lose funds. thus Recall in this case should be the performance metric to adpot.\n",
        "but then again, as a business, although the am of the model is to reduce loss, the ultimate aim of business is to grow the customer base and make profit, thus high false positives would make the business refuse loans to those deserving of it(creating customer dissatifaction). also when false positives are too high, those who monitor the results will learn to ignore them after being bombarded with false alarms.\n",
        "therefore it is essential to use a more balanced metric such as the F1 score, a good F1 score means that we have low false positives and low false negatives, so we’re correctly identifying real threats and we are not disturbed by false alarms.\n",
        "\n",
        "another metric is the Area under the curve(AUC), this involves all possible thresholds with their corresponding confusion matrices on the ROC-curve. \n",
        "\n",
        "in conclusion, though the neural network performed better than the random forest in terms of F1 and AUC scores, i would be adopting the Random Forest model, this is because the dataset is not large enough to fully utilize the neural network. but with a little bit of fine tunning the random forest can inprove."
      ]
    },
    {
      "cell_type": "code",
      "metadata": {
        "id": "VG8czMBen-Gc",
        "colab_type": "code",
        "colab": {}
      },
      "source": [
        ""
      ],
      "execution_count": 0,
      "outputs": []
    }
  ]
}